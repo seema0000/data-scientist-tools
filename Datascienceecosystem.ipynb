{
 "cells": [
  {
   "cell_type": "markdown",
   "metadata": {},
   "source": [
    "<center>\n",
    "    <img src=\"https://cf-courses-data.s3.us.cloud-object-storage.appdomain.cloud/IBMDeveloperSkillsNetwork-DS0105EN-SkillsNetwork/labs/Module2/images/SN_web_lightmode.png\" width=\"300\" alt=\"cognitiveclass.ai logo\">\n",
    "</center>\n"
   ]
  },
  {
   "cell_type": "markdown",
   "metadata": {},
   "source": [
    "#### Add your code below following the instructions given in the course\n"
   ]
  },
  {
   "cell_type": "markdown",
   "metadata": {},
   "source": [
    "# Data Science Tools and Ecosystem"
   ]
  },
  {
   "cell_type": "markdown",
   "metadata": {},
   "source": [
    "some of the key takeaways from the course are:\n",
    "# Objectives:\n",
    "**Explore popular languages for data science**\n",
    "**Understand commonly used libraries in Data science**\n",
    "**Introduce basic arithmetic expressions in Python**\n",
    "**Demonstrate conversion of minutes to hours using Python**\n",
    "**Create and format Markdown cells in Jupyter Notebooks\n"
   ]
  },
  {
   "cell_type": "markdown",
   "metadata": {
    "tags": []
   },
   "source": [
    "#Some of the popular languagesthat data scientist use are:\n",
    "1.**Python**:widely used for its simplicity,extensive libraries(e.g,Numpy,Pandas),and versatality.\n",
    "2.**R**:Specialized for statistical computing and graphics,commonly used in academia and research.\n",
    "3.**SQL**:Essential for managing and querrying databases,often used in conjunction with other languages.\n",
    "4.**julia**:Gaining popularity for its high performance numerical and scientific computing capabilities."
   ]
  },
  {
   "cell_type": "markdown",
   "metadata": {},
   "source": [
    "# Some of the commonly used libraries by data scientists include:\n",
    "1.**Numpy**:Fundamental package for scientific computing with python,providing support for large,multidimensional arrays and matrices.\n",
    "2.**Pandas**: Data manipulationand analysis library,offering data structure like data frame for efficient data handling.\n",
    "3.**Matplotlib**:Comprehensive 2D plotting library for creating  static,animated, and interatctive visvualizations in python."
   ]
  },
  {
   "cell_type": "markdown",
   "metadata": {},
   "source": [
    "# Data Science Tools\n",
    "|  Data Science Tools                |\n",
    "|------------------------------------|\n",
    "| Jupyter Notebook                   |\n",
    "| R Studio                           |\n",
    "| VS Code with Python Extension      |"
   ]
  },
  {
   "cell_type": "markdown",
   "metadata": {
    "tags": []
   },
   "source": [
    "### Below are a few examples of evaluating arithmetic expressions in Python.\n",
    "\n"
   ]
  },
  {
   "cell_type": "code",
   "execution_count": 6,
   "metadata": {
    "tags": []
   },
   "outputs": [
    {
     "data": {
      "text/plain": [
       "17"
      ]
     },
     "execution_count": 6,
     "metadata": {},
     "output_type": "execute_result"
    }
   ],
   "source": [
    "# Multiply and add numbers\n",
    "result= 3*5+2\n",
    "# Display the result\n",
    "result"
   ]
  },
  {
   "cell_type": "code",
   "execution_count": 7,
   "metadata": {
    "tags": []
   },
   "outputs": [
    {
     "data": {
      "text/plain": [
       "3.3333333333333335"
      ]
     },
     "execution_count": 7,
     "metadata": {},
     "output_type": "execute_result"
    }
   ],
   "source": [
    "# This will convert 200 minutes to hours by dividing by 60.\n",
    "minutes=200\n",
    "hours=minutes/60\n",
    "\n",
    "# Display the result\n",
    "hours"
   ]
  },
  {
   "cell_type": "markdown",
   "metadata": {},
   "source": [
    "## Author\n",
    "SEEMA SHUKLA"
   ]
  },
  {
   "cell_type": "code",
   "execution_count": null,
   "metadata": {},
   "outputs": [],
   "source": []
  }
 ],
 "metadata": {
  "kernelspec": {
   "display_name": "Python",
   "language": "python",
   "name": "conda-env-python-py"
  },
  "language_info": {
   "codemirror_mode": {
    "name": "ipython",
    "version": 3
   },
   "file_extension": ".py",
   "mimetype": "text/x-python",
   "name": "python",
   "nbconvert_exporter": "python",
   "pygments_lexer": "ipython3",
   "version": "3.7.12"
  }
 },
 "nbformat": 4,
 "nbformat_minor": 4
}
